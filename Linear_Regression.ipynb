{
  "nbformat": 4,
  "nbformat_minor": 0,
  "metadata": {
    "colab": {
      "provenance": []
    },
    "kernelspec": {
      "name": "python3",
      "display_name": "Python 3"
    },
    "language_info": {
      "name": "python"
    }
  },
  "cells": [
    {
      "cell_type": "markdown",
      "source": [
        "###Importing Libraries"
      ],
      "metadata": {
        "id": "3qwuywEEaANK"
      }
    },
    {
      "cell_type": "code",
      "execution_count": null,
      "metadata": {
        "id": "P5eEdU_Y6xyX"
      },
      "outputs": [],
      "source": [
        "import numpy as np\n",
        "import pandas as pd\n",
        "import matplotlib.pyplot as plt\n",
        "import seaborn as sns\n",
        "import datetime\n",
        "from sklearn.model_selection import train_test_split\n",
        "from sklearn.linear_model import LinearRegression\n",
        "from sklearn.metrics import mean_squared_error, r2_score, mean_absolute_error\n",
        "from sklearn.preprocessing import StandardScaler"
      ]
    },
    {
      "cell_type": "markdown",
      "source": [
        "###Preprocessing :"
      ],
      "metadata": {
        "id": "o-VxS5sA9Nu9"
      }
    },
    {
      "cell_type": "code",
      "source": [
        "\n",
        "data_file = \"https://raw.githubusercontent.com/pran9803/TrafficPredictor/main/traffic.csv?token=GHSAT0AAAAAACRE4GFE7RSWHTJ5V7UUVG7SZRBAP3Q\"\n",
        "data= pd.read_csv(data_file)\n",
        "data.head()\n",
        "\n",
        "\n",
        "data['DateTime'] = pd.to_datetime(data['DateTime'])\n",
        "\n",
        "# Extract and assign components of the datetime to new columns\n",
        "data['Year'] = data['DateTime'].dt.year\n",
        "data['Month'] = data['DateTime'].dt.month\n",
        "data['DayOfMonth'] = data['DateTime'].dt.day\n",
        "data['Hour'] = data['DateTime'].dt.hour\n",
        "data['Minute'] = data['DateTime'].dt.minute\n",
        "data['Second'] = data['DateTime'].dt.second\n",
        "\n",
        "#Monday is assigned 1, Tue 2 and so on..\n",
        "data['WeekDay'] = data['DateTime'].dt.weekday + 1\n",
        "\n",
        "# Drop ID because it is just for identification purpose and not of use in prediction\n",
        "# Drop Datetime as we split Date, day, hr, second into different columns\n",
        "# Drop Minute,Second as it is always 0 because the data is collected at every hour\n",
        "data = data.drop(['ID', 'DateTime', 'Minute', 'Second'], axis=1)\n",
        "\n",
        "# Display the first few rows of the dataframe to verify the changes\n",
        "data.head()\n",
        "\n",
        "\n",
        "# Split the data into features (X) and labels or target variable (y)\n",
        "X = data.drop('Vehicles', axis=1)\n",
        "y = data['Vehicles']\n",
        "\n",
        "# Train-Test Split (80:20 ratio)\n",
        "X_train, X_test, y_train, y_test = train_test_split(X, y, test_size=0.2, random_state=42)\n"
      ],
      "metadata": {
        "id": "6QnAI_Jsdh5P"
      },
      "execution_count": null,
      "outputs": []
    },
    {
      "cell_type": "markdown",
      "source": [
        "###Linear Regression"
      ],
      "metadata": {
        "id": "qpyOt5sIZjlv"
      }
    },
    {
      "cell_type": "code",
      "source": [
        "scaler = StandardScaler()\n",
        "X_train_scaled = scaler.fit_transform(X_train)\n",
        "X_test_scaled = scaler.transform(X_test)\n",
        "# Linear regression\n",
        "model = LinearRegression()\n",
        "model.fit(X_train_scaled, y_train)\n",
        "\n",
        "# Prediction on test set\n",
        "y_pred = model.predict(X_test_scaled)\n"
      ],
      "metadata": {
        "id": "0OwE7gEC66-V"
      },
      "execution_count": null,
      "outputs": []
    },
    {
      "cell_type": "code",
      "source": [
        "mse = mean_squared_error(y_test, y_pred)\n",
        "rmse = mean_squared_error(y_test, y_pred, squared=False)  # Calculate RMSE\n",
        "mae = mean_absolute_error(y_test, y_pred)\n",
        "r2 = r2_score(y_test, y_pred)\n",
        "\n",
        "print(\"Mean Squared Error:\", mse)\n",
        "print(\"Root Mean Squared Error:\", rmse)\n",
        "print(\"Mean Absolute Error:\", mae)\n",
        "print(\"R-squared Score:\", r2)"
      ],
      "metadata": {
        "id": "qPICinWFmSad",
        "colab": {
          "base_uri": "https://localhost:8080/"
        },
        "outputId": "ee39260a-b842-41be-c216-d1caa19fbe32"
      },
      "execution_count": null,
      "outputs": [
        {
          "output_type": "stream",
          "name": "stdout",
          "text": [
            "Mean Squared Error: 163.12484449089322\n",
            "Root Mean Squared Error: 12.772033686570563\n",
            "Mean Absolute Error: 9.637676096030768\n",
            "R-squared Score: 0.5997395466491757\n"
          ]
        }
      ]
    }
  ]
}
